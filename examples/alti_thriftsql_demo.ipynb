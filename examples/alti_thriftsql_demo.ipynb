{
 "cells": [
  {
   "cell_type": "code",
   "execution_count": null,
   "metadata": {
    "scrolled": false
   },
   "outputs": [],
   "source": [
    "-- Can connect by running a query or with '%sqlconnect'\n",
    "-- Note that interrupting queries is done by pressing ii. Restart queries can be done using 00\n",
    "show databases\n",
    "-- This command is auto-vized, we could change this pretty easily, think we would want to..."
   ]
  },
  {
   "cell_type": "code",
   "execution_count": null,
   "metadata": {},
   "outputs": [],
   "source": [
    "-- List only sql magics - for all magics do %lsmagic\n",
    "%ls_sqlmagics"
   ]
  },
  {
   "cell_type": "code",
   "execution_count": null,
   "metadata": {},
   "outputs": [],
   "source": [
    "-- Print the current connection\n",
    "%sqlconfig -p"
   ]
  },
  {
   "cell_type": "code",
   "execution_count": null,
   "metadata": {},
   "outputs": [],
   "source": [
    "-- Change config\n",
    "%sqlconfig -c\n",
    "port: 20000\n",
    "user: 'tnystrand'\n",
    "conf: {'SET hive.exec.max.dynamic.partitions': 10000}"
   ]
  },
  {
   "cell_type": "code",
   "execution_count": null,
   "metadata": {},
   "outputs": [],
   "source": [
    "-- Reset config\n",
    "%sqlconfig -r"
   ]
  },
  {
   "cell_type": "code",
   "execution_count": null,
   "metadata": {},
   "outputs": [],
   "source": [
    "-- Show tables...\n",
    "use tpcds_bin_partitioned_orc_1000;\n",
    "show tables;"
   ]
  },
  {
   "cell_type": "code",
   "execution_count": null,
   "metadata": {},
   "outputs": [],
   "source": [
    "%sqlconfig"
   ]
  },
  {
   "cell_type": "code",
   "execution_count": null,
   "metadata": {},
   "outputs": [],
   "source": [
    "describe call_center;"
   ]
  },
  {
   "cell_type": "code",
   "execution_count": null,
   "metadata": {},
   "outputs": [],
   "source": [
    "select * from call_center limit 10"
   ]
  },
  {
   "cell_type": "code",
   "execution_count": null,
   "metadata": {},
   "outputs": [],
   "source": [
    "-- Printing the dataframe\n",
    "thrift_df"
   ]
  },
  {
   "cell_type": "code",
   "execution_count": null,
   "metadata": {},
   "outputs": [],
   "source": [
    "-- Printing the logs\n",
    "thrift_logs"
   ]
  },
  {
   "cell_type": "code",
   "execution_count": null,
   "metadata": {
    "scrolled": false
   },
   "outputs": [],
   "source": [
    "-- Running python code needs the local prefix\n",
    "%local\n",
    "ids = range(0,10,3)\n",
    "thrift_df.take(ids)"
   ]
  },
  {
   "cell_type": "code",
   "execution_count": null,
   "metadata": {},
   "outputs": [],
   "source": [
    "-- Setting a local variable\n",
    "%local\n",
    "start_date = '1998-01-01'"
   ]
  },
  {
   "cell_type": "code",
   "execution_count": null,
   "metadata": {},
   "outputs": [],
   "source": [
    "-- Running with a local variable\n",
    "select * from call_center where cc_rec_start_date='%(start_date)s' limit 1"
   ]
  },
  {
   "cell_type": "code",
   "execution_count": null,
   "metadata": {},
   "outputs": [],
   "source": [
    "-- Running with a hive variable variable\n",
    "set hivevar:start_date='1998-01-01';\n",
    "select * from call_center where cc_rec_start_date=${start_date} limit 1"
   ]
  },
  {
   "cell_type": "code",
   "execution_count": null,
   "metadata": {},
   "outputs": [],
   "source": [
    "-- Friendly error messages...\n",
    "select * from call_center where cc_rec_start_date=%{end_date}s limit 1"
   ]
  },
  {
   "cell_type": "code",
   "execution_count": null,
   "metadata": {},
   "outputs": [],
   "source": [
    "-- Missing LOCAL variables are requested (and saved to local namespace after run)\n",
    "-- We porbably want to add a templating feature which asks for all variables specified as %<default> right away\n",
    "select * from call_center where cc_rec_start_date='%(end_date)s' limit 1"
   ]
  },
  {
   "cell_type": "code",
   "execution_count": null,
   "metadata": {},
   "outputs": [],
   "source": [
    "-- Specific templating\n",
    "select * from call_center where cc_rec_start_date between '$<start_date=1998-01-01>' and '$<end_date>' limit 1"
   ]
  },
  {
   "cell_type": "code",
   "execution_count": null,
   "metadata": {},
   "outputs": [],
   "source": [
    "%local\n",
    "start_date='1998-01-02'"
   ]
  },
  {
   "cell_type": "code",
   "execution_count": null,
   "metadata": {},
   "outputs": [],
   "source": []
  }
 ],
 "metadata": {
  "kernelspec": {
   "display_name": "alti-thriftsql",
   "language": "",
   "name": "sqlkernel"
  },
  "language_info": {
   "codemirror_mode": "text/x-sql",
   "mimetype": "text/x-sql",
   "name": "sql",
   "pygments_lexer": "sql"
  }
 },
 "nbformat": 4,
 "nbformat_minor": 2
}
